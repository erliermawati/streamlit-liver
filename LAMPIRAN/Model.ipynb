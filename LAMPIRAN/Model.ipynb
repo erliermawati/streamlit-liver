{
 "cells": [
  {
   "cell_type": "markdown",
   "metadata": {},
   "source": [
    "1. Tentukan library yang digunakan"
   ]
  },
  {
   "cell_type": "code",
   "execution_count": 1,
   "metadata": {},
   "outputs": [],
   "source": [
    "import pickle\n",
    "import numpy as np\n",
    "import pandas as pd\n",
    "from sklearn.model_selection import train_test_split\n",
    "from sklearn.model_selection import KFold, cross_validate\n",
    "from sklearn.neighbors import KNeighborsClassifier\n",
    "import joblib"
   ]
  },
  {
   "cell_type": "markdown",
   "metadata": {},
   "source": [
    "2. Baca Dataset"
   ]
  },
  {
   "cell_type": "code",
   "execution_count": 2,
   "metadata": {},
   "outputs": [
    {
     "name": "stdout",
     "output_type": "stream",
     "text": [
      "   age  gender  tot_bilirubin  direct_bilirubin  tot_proteins  albumin  \\\n",
      "0   65  Female            0.7               0.1           187       16   \n",
      "1   62    Male           10.9               5.5           699       64   \n",
      "2   62    Male            7.3               4.1           490       60   \n",
      "3   58    Male            1.0               0.4           182       14   \n",
      "4   72    Male            3.9               2.0           195       27   \n",
      "\n",
      "   ag_ratio  sgpt  sgot  alkphos  is_patient  \n",
      "0        18   6.8   3.3     0.90           1  \n",
      "1       100   7.5   3.2     0.74           1  \n",
      "2        68   7.0   3.3     0.89           1  \n",
      "3        20   6.8   3.4     1.00           1  \n",
      "4        59   7.3   2.4     0.40           1  \n"
     ]
    }
   ],
   "source": [
    "import pandas as pd\n",
    "\n",
    "# Tentukan path file\n",
    "file_path = 'Indian Liver Patient Dataset (ILPD).csv'\n",
    "\n",
    "# Baca data dari file CSV\n",
    "dataset = pd.read_csv(file_path)\n",
    "\n",
    "# Tampilkan beberapa baris pertama dari dataset\n",
    "print(dataset.head())"
   ]
  },
  {
   "cell_type": "markdown",
   "metadata": {},
   "source": [
    "3. Pemisahan Data"
   ]
  },
  {
   "cell_type": "code",
   "execution_count": 3,
   "metadata": {},
   "outputs": [
    {
     "name": "stdout",
     "output_type": "stream",
     "text": [
      "[1 1 1 1 1 1 1 1 2 1 1 1 2 1 1 2 1 2 1 1 1 1 1 1 2 1 1 1 2 2 1 1 2 2 2 1 2\n",
      " 1 1 1 1 2 2 1 2 2 1 1 1 1 1 1 1 1 1 1 2 2 1 2 1 1 1 1 1 1 1 1 1 2 1 1 1 1\n",
      " 1 2 1 1 2 1 1 1 2 1 1 1 2 1 1 1 1 1 1 1 1 1 1 1 1 1 2 2 1 2 1 2 2 2 2 2 2\n",
      " 1 2 1 2 2 1 1 1 1 1 1 2 1 2 2 1 1 1 1 1 2 2 1 1 1 1 1 1 1 2 1 1 1 1 2 1 1\n",
      " 1 1 2 1 1 2 1 1 1 1 1 1 1 1 1 1 1 1 1 1 1 1 1 1 1 1 1 1 1 1 1 1 1 1 2 1 1\n",
      " 2 1 1 1 2 1 1 1 2 2 1 1 1 2 1 1 1 2 2 2 1 1 1 1 1 1 1 2 1 1 2 2 1 2 1 1 1\n",
      " 1 2 1 1 1 1 2 1 2 1 1 1 1 1 2 1 2 1 2 1 1 1 1 1 1 1 1 1 1 1 2 2 2 1 1 1 2\n",
      " 1 1 1 1 1 2 2 1 1 1 1 1 2 1 1 1 2 2 1 1 1 1 2 1 2 1 1 1 2 1 1 1 2 1 2 1 1\n",
      " 1 2 1 2 2 1 1 2 1 2 1 1 1 1 1 1 2 2 1 2 2 1 1 2 1 1 1 2 1 2 2 2 2 2 1 1 1\n",
      " 2 1 1 1 1 1 1 1 1 2 1 2 1 1 1 1 2 1 1 1 1 1 2 1 1 1 2 1 2 2 2 2 2 2 2 1 1\n",
      " 1 2 1 2 2 1 1 2 1 2 1 1 1 2 1 1 2 1 1 1 1 1 1 1 1 2 1 1 1 1 2 1 1 2 1 1 2\n",
      " 1 1 1 1 2 1 2 2 1 1 2 1 1 1 2 1 2 1 1 2 1 2 1 1 2 1 2 2 2 1 1 1 1 1 1 1 1\n",
      " 2 2 1 1 1 1 1 1 1 1 2 1 2 2 1 1 1 1 1 1 2 2 2 2 1 1 1 2 2 2 2 2 1 1 1 1 2\n",
      " 1 1 2 1 1 1 1 2 2 1 2 1 2 1 2 1 1 1 1 1 1 1 1 1 1 1 1 1 1 2 1 2 1 1 1 1 1\n",
      " 1 1 1 1 1 1 2 2 1 1 1 1 2 1 2 1 2 1 1 1 1 2 2 2 2 1 1 2 1 1 1 1 1 2 1 1 1\n",
      " 1 1 1 1 1 1 1 1 1 2 1 2 1 1 1 1 1 1 1 1 1 1 1 2 1 1 1 2]\n"
     ]
    }
   ],
   "source": [
    "import pandas as pd\n",
    "\n",
    "# Gantilah 'path/to/your/file.csv' dengan path yang benar\n",
    "file_path = 'Indian Liver Patient Dataset (ILPD).csv'\n",
    "\n",
    "# Membaca data dari file CSV\n",
    "data = pd.read_csv(file_path)\n",
    "\n",
    "# Mengambil label setiap baris\n",
    "label = data.iloc[:, -1:].values.ravel()\n",
    "\n",
    "# Menampilkan label\n",
    "print(label)"
   ]
  },
  {
   "cell_type": "code",
   "execution_count": 4,
   "metadata": {},
   "outputs": [
    {
     "data": {
      "text/plain": [
       "array([[65, 'Female', 0.7, ..., 6.8, 3.3, 0.9],\n",
       "       [62, 'Male', 10.9, ..., 7.5, 3.2, 0.74],\n",
       "       [62, 'Male', 7.3, ..., 7.0, 3.3, 0.89],\n",
       "       ...,\n",
       "       [52, 'Male', 0.8, ..., 6.4, 3.2, 1.0],\n",
       "       [31, 'Male', 1.3, ..., 6.8, 3.4, 1.0],\n",
       "       [38, 'Male', 1.0, ..., 7.3, 4.4, 1.5]], dtype=object)"
      ]
     },
     "execution_count": 4,
     "metadata": {},
     "output_type": "execute_result"
    }
   ],
   "source": [
    "# AMBIL FEATURE DATA\n",
    "feature = data.iloc[:,:-1]\n",
    "feature.values"
   ]
  },
  {
   "cell_type": "code",
   "execution_count": 5,
   "metadata": {},
   "outputs": [],
   "source": [
    "# PEMBAGIAN DATA LATIN DAN DATA UJI SEBANYAK 30% UNTUK DATA LATIN 70% UNTUK DATA TEST \n",
    "x_train, x_test, y_train, y_test = train_test_split(feature, label, test_size=0.3)"
   ]
  },
  {
   "cell_type": "code",
   "execution_count": 6,
   "metadata": {},
   "outputs": [
    {
     "name": "stdout",
     "output_type": "stream",
     "text": [
      "Jumlah Data Latih: 466\n",
      "Jumlah Data Uji: 117\n"
     ]
    }
   ],
   "source": [
    "from sklearn.model_selection import train_test_split\n",
    "\n",
    "# Mengganti nama kolom target menjadi 'label'\n",
    "features = data.drop(columns=['is_patient'])  # Sesuaikan dengan struktur dataset Anda\n",
    "labels = data['is_patient']\n",
    "\n",
    "# Membagi dataset menjadi data latih dan data uji\n",
    "x_train, x_test, y_train, y_test = train_test_split(features, labels, test_size=0.2, random_state=42)\n",
    "\n",
    "# Menampilkan jumlah data\n",
    "print(\"Jumlah Data Latih:\", len(x_train))\n",
    "print(\"Jumlah Data Uji:\", len(x_test))"
   ]
  },
  {
   "cell_type": "markdown",
   "metadata": {},
   "source": [
    "4. Pemodelan Dengan KKN"
   ]
  },
  {
   "cell_type": "code",
   "execution_count": 7,
   "metadata": {},
   "outputs": [
    {
     "name": "stdout",
     "output_type": "stream",
     "text": [
      "Akurasi Model: 1.0\n"
     ]
    }
   ],
   "source": [
    "from sklearn.compose import ColumnTransformer\n",
    "from sklearn.pipeline import Pipeline\n",
    "from sklearn.impute import SimpleImputer\n",
    "from sklearn.preprocessing import StandardScaler, OneHotEncoder, LabelEncoder\n",
    "from sklearn.model_selection import train_test_split\n",
    "from sklearn.neighbors import KNeighborsClassifier\n",
    "\n",
    "# Pisahkan kolom-kolom numerik dan kategorikal\n",
    "numeric_cols = data.select_dtypes(include=['float64', 'int64']).columns\n",
    "categorical_cols = data.select_dtypes(include=['object']).columns\n",
    "\n",
    "# Pipeline untuk data numerik\n",
    "numeric_transformer = Pipeline(steps=[\n",
    "    ('imputer', SimpleImputer(strategy='mean')),\n",
    "    ('scaler', StandardScaler())\n",
    "])\n",
    "\n",
    "# Pipeline untuk data kategorikal\n",
    "categorical_transformer = Pipeline(steps=[\n",
    "    ('imputer', SimpleImputer(strategy='most_frequent')),  # Gunakan most_frequent untuk data kategorikal\n",
    "    ('onehot', OneHotEncoder(handle_unknown='ignore'))\n",
    "])\n",
    "\n",
    "# Gabungkan kedua pipeline\n",
    "preprocessor = ColumnTransformer(\n",
    "    transformers=[\n",
    "        ('num', numeric_transformer, numeric_cols),\n",
    "        ('cat', categorical_transformer, categorical_cols)\n",
    "    ])\n",
    "\n",
    "# Pipeline untuk keseluruhan preprocessing\n",
    "pipeline = Pipeline(steps=[('preprocessor', preprocessor)])\n",
    "\n",
    "# Lakukan preprocessing pada data\n",
    "data_preprocessed = pipeline.fit_transform(data)\n",
    "\n",
    "# Pisahkan fitur dan label\n",
    "features = data_preprocessed\n",
    "labels = data['is_patient']\n",
    "\n",
    "# Bagi dataset menjadi data latih dan data uji\n",
    "x_train, x_test, y_train, y_test = train_test_split(features, labels, test_size=0.2, random_state=42)\n",
    "\n",
    "# Inisialisasi model K-NN\n",
    "clf = KNeighborsClassifier(n_neighbors=3)\n",
    "\n",
    "# FITTING DATA TRAINING\n",
    "clf.fit(x_train, y_train)\n",
    "\n",
    "# Evaluasi model\n",
    "accuracy = clf.score(x_test, y_test)\n",
    "print(\"Akurasi Model:\", accuracy)"
   ]
  },
  {
   "cell_type": "markdown",
   "metadata": {},
   "source": [
    "5. Prediksi Hasil"
   ]
  },
  {
   "cell_type": "code",
   "execution_count": 8,
   "metadata": {},
   "outputs": [
    {
     "data": {
      "text/plain": [
       "array([2, 1, 1, 1, 1, 1, 2, 2, 2, 1, 2, 1, 2, 1, 1, 1, 1, 1, 1, 1, 1, 1,\n",
       "       1, 1, 1, 1, 1, 2, 1, 2, 1, 1, 1, 1, 2, 1, 1, 1, 1, 1, 2, 1, 1, 1,\n",
       "       1, 1, 1, 1, 2, 1, 2, 1, 1, 1, 1, 1, 2, 1, 2, 1, 1, 1, 2, 1, 1, 1,\n",
       "       1, 1, 1, 1, 2, 1, 1, 1, 1, 1, 1, 2, 2, 1, 1, 1, 2, 1, 1, 1, 2, 1,\n",
       "       1, 2, 2, 1, 2, 1, 1, 1, 1, 1, 2, 1, 2, 1, 1, 1, 1, 1, 1, 1, 1, 2,\n",
       "       1, 2, 1, 2, 1, 2, 2], dtype=int64)"
      ]
     },
     "execution_count": 8,
     "metadata": {},
     "output_type": "execute_result"
    }
   ],
   "source": [
    "pred = clf.predict(x_test)\n",
    "pred"
   ]
  },
  {
   "cell_type": "code",
   "execution_count": 9,
   "metadata": {},
   "outputs": [
    {
     "name": "stdout",
     "output_type": "stream",
     "text": [
      "Prediksi Yang Dihasilkan\n"
     ]
    },
    {
     "data": {
      "text/html": [
       "<div>\n",
       "<style scoped>\n",
       "    .dataframe tbody tr th:only-of-type {\n",
       "        vertical-align: middle;\n",
       "    }\n",
       "\n",
       "    .dataframe tbody tr th {\n",
       "        vertical-align: top;\n",
       "    }\n",
       "\n",
       "    .dataframe thead th {\n",
       "        text-align: right;\n",
       "    }\n",
       "</style>\n",
       "<table border=\"1\" class=\"dataframe\">\n",
       "  <thead>\n",
       "    <tr style=\"text-align: right;\">\n",
       "      <th></th>\n",
       "      <th>Y True</th>\n",
       "      <th>predict</th>\n",
       "    </tr>\n",
       "  </thead>\n",
       "  <tbody>\n",
       "    <tr>\n",
       "      <th>355</th>\n",
       "      <td>2</td>\n",
       "      <td>2</td>\n",
       "    </tr>\n",
       "    <tr>\n",
       "      <th>407</th>\n",
       "      <td>1</td>\n",
       "      <td>1</td>\n",
       "    </tr>\n",
       "    <tr>\n",
       "      <th>90</th>\n",
       "      <td>1</td>\n",
       "      <td>1</td>\n",
       "    </tr>\n",
       "    <tr>\n",
       "      <th>402</th>\n",
       "      <td>1</td>\n",
       "      <td>1</td>\n",
       "    </tr>\n",
       "    <tr>\n",
       "      <th>268</th>\n",
       "      <td>1</td>\n",
       "      <td>1</td>\n",
       "    </tr>\n",
       "    <tr>\n",
       "      <th>...</th>\n",
       "      <td>...</td>\n",
       "      <td>...</td>\n",
       "    </tr>\n",
       "    <tr>\n",
       "      <th>516</th>\n",
       "      <td>1</td>\n",
       "      <td>1</td>\n",
       "    </tr>\n",
       "    <tr>\n",
       "      <th>305</th>\n",
       "      <td>2</td>\n",
       "      <td>2</td>\n",
       "    </tr>\n",
       "    <tr>\n",
       "      <th>167</th>\n",
       "      <td>1</td>\n",
       "      <td>1</td>\n",
       "    </tr>\n",
       "    <tr>\n",
       "      <th>312</th>\n",
       "      <td>2</td>\n",
       "      <td>2</td>\n",
       "    </tr>\n",
       "    <tr>\n",
       "      <th>329</th>\n",
       "      <td>2</td>\n",
       "      <td>2</td>\n",
       "    </tr>\n",
       "  </tbody>\n",
       "</table>\n",
       "<p>117 rows × 2 columns</p>\n",
       "</div>"
      ],
      "text/plain": [
       "     Y True  predict\n",
       "355       2        2\n",
       "407       1        1\n",
       "90        1        1\n",
       "402       1        1\n",
       "268       1        1\n",
       "..      ...      ...\n",
       "516       1        1\n",
       "305       2        2\n",
       "167       1        1\n",
       "312       2        2\n",
       "329       2        2\n",
       "\n",
       "[117 rows x 2 columns]"
      ]
     },
     "execution_count": 9,
     "metadata": {},
     "output_type": "execute_result"
    }
   ],
   "source": [
    "cols = {\n",
    "    'Y True' : y_test,\n",
    "    'predict' : pred,\n",
    "}\n",
    "\n",
    "print(\"Prediksi Yang Dihasilkan\")\n",
    "pd.DataFrame(cols)"
   ]
  },
  {
   "cell_type": "markdown",
   "metadata": {},
   "source": [
    "6. Pengukuran Performance"
   ]
  },
  {
   "cell_type": "code",
   "execution_count": 10,
   "metadata": {},
   "outputs": [
    {
     "name": "stdout",
     "output_type": "stream",
     "text": [
      "   fit_time  score_time  test_accuracy  train_accuracy  test_precision  \\\n",
      "0  0.000000    0.090211            1.0        1.000000             1.0   \n",
      "1  0.007996    0.062797            1.0        1.000000             1.0   \n",
      "2  0.031998    0.032005            1.0        1.000000             1.0   \n",
      "3  0.000000    0.125588            1.0        1.000000             1.0   \n",
      "4  0.040008    0.024005            1.0        1.000000             1.0   \n",
      "5  0.007997    0.120017            1.0        1.000000             1.0   \n",
      "6  0.009269    0.120818            1.0        1.000000             1.0   \n",
      "7  0.008006    0.085324            1.0        1.000000             1.0   \n",
      "8  0.002051    0.031983            1.0        1.000000             1.0   \n",
      "9  0.000000    0.064416            1.0        0.990566             1.0   \n",
      "\n",
      "   train_precision  test_recall  train_recall  \n",
      "0         1.000000          1.0           1.0  \n",
      "1         1.000000          1.0           1.0  \n",
      "2         1.000000          1.0           1.0  \n",
      "3         1.000000          1.0           1.0  \n",
      "4         1.000000          1.0           1.0  \n",
      "5         1.000000          1.0           1.0  \n",
      "6         1.000000          1.0           1.0  \n",
      "7         1.000000          1.0           1.0  \n",
      "8         1.000000          1.0           1.0  \n",
      "9         0.987805          1.0           1.0  \n"
     ]
    }
   ],
   "source": [
    "from sklearn.model_selection import cross_validate, KFold\n",
    "\n",
    "kfold = KFold(n_splits=10)\n",
    "scores = ['accuracy', 'precision', 'recall']\n",
    "\n",
    "results = cross_validate(clf, x_test, y_test, cv=kfold, scoring=scores, return_train_score=True)\n",
    "results_data = pd.DataFrame(results)\n",
    "print(results_data)"
   ]
  },
  {
   "cell_type": "code",
   "execution_count": 11,
   "metadata": {},
   "outputs": [
    {
     "name": "stdout",
     "output_type": "stream",
     "text": [
      "PERFORMANCE MODEL KKN\n",
      "Accuracy : 100.00 %\n",
      "Precision : 100.00  %\n",
      "Recall : 100.00  %\n"
     ]
    }
   ],
   "source": [
    "print(\"PERFORMANCE MODEL KKN\")\n",
    "\n",
    "accuracy = results_data.test_accuracy.mean() * 100\n",
    "precision = results_data.test_precision.mean() * 100\n",
    "recall = results_data.test_recall.mean() * 100\n",
    "\n",
    "print(\"Accuracy : %0.2f\" % accuracy, \"%\")\n",
    "print(\"Precision : %0.2f \" % precision, \"%\")\n",
    "print(\"Recall : %0.2f \" % recall, \"%\")"
   ]
  },
  {
   "cell_type": "code",
   "execution_count": 21,
   "metadata": {},
   "outputs": [],
   "source": [
    "model_new = \"nama_model_baru.pkl\"\n",
    "pickle.dump(clf, open(model_new, \"wb\"))"
   ]
  },
  {
   "cell_type": "code",
   "execution_count": null,
   "metadata": {},
   "outputs": [],
   "source": []
  }
 ],
 "metadata": {
  "kernelspec": {
   "display_name": "Python 3.12.1 64-bit",
   "language": "python",
   "name": "python3"
  },
  "language_info": {
   "codemirror_mode": {
    "name": "ipython",
    "version": 3
   },
   "file_extension": ".py",
   "mimetype": "text/x-python",
   "name": "python",
   "nbconvert_exporter": "python",
   "pygments_lexer": "ipython3",
   "version": "3.12.1"
  },
  "orig_nbformat": 4,
  "vscode": {
   "interpreter": {
    "hash": "1e0a0e7ce0d4296025695ae7a5702a0a347ba60d4d9b82e53a700fae2aecce95"
   }
  }
 },
 "nbformat": 4,
 "nbformat_minor": 2
}
